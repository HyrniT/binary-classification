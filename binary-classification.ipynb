{
 "cells": [
  {
   "cell_type": "markdown",
   "id": "1c38a831",
   "metadata": {},
   "source": [
    "# Binary Classification"
   ]
  },
  {
   "cell_type": "markdown",
   "id": "c981ebbc",
   "metadata": {},
   "source": [
    "## Import relevant modules"
   ]
  },
  {
   "cell_type": "code",
   "execution_count": 2,
   "id": "5684b8cd",
   "metadata": {},
   "outputs": [],
   "source": [
    "# from __future__ import absolute_import, division, print_function, unicode_literals\n",
    "\n",
    "import numpy as np\n",
    "import pandas as pd\n",
    "import tensorflow as tf\n",
    "from tensorflow.keras import layers\n",
    "from matplotlib import pyplot as plt\n",
    "\n",
    "# The following lines adjust the granularity of reporting.\n",
    "pd.options.display.max_rows = 10\n",
    "pd.options.display.float_format = \"{:.1f}\".format\n",
    "# tf.keras.backend.set_floatx('float32')"
   ]
  },
  {
   "cell_type": "markdown",
   "id": "c5d4c809",
   "metadata": {},
   "source": [
    "## Load the datasets from the internet"
   ]
  },
  {
   "cell_type": "code",
   "execution_count": 3,
   "id": "b92e4907",
   "metadata": {},
   "outputs": [],
   "source": [
    "train_df = pd.read_csv(\"https://download.mlcc.google.com/mledu-datasets/california_housing_train.csv\")\n",
    "test_df = pd.read_csv(\"https://download.mlcc.google.com/mledu-datasets/california_housing_test.csv\")\n",
    "train_df = train_df.reindex(np.random.permutation(train_df.index)) # shuffle the training set"
   ]
  },
  {
   "cell_type": "markdown",
   "id": "97fa6c91",
   "metadata": {},
   "source": [
    "## Normalize values"
   ]
  },
  {
   "cell_type": "code",
   "execution_count": 4,
   "id": "b8f1719a",
   "metadata": {
    "scrolled": true
   },
   "outputs": [
    {
     "data": {
      "text/html": [
       "<div>\n",
       "<style scoped>\n",
       "    .dataframe tbody tr th:only-of-type {\n",
       "        vertical-align: middle;\n",
       "    }\n",
       "\n",
       "    .dataframe tbody tr th {\n",
       "        vertical-align: top;\n",
       "    }\n",
       "\n",
       "    .dataframe thead th {\n",
       "        text-align: right;\n",
       "    }\n",
       "</style>\n",
       "<table border=\"1\" class=\"dataframe\">\n",
       "  <thead>\n",
       "    <tr style=\"text-align: right;\">\n",
       "      <th></th>\n",
       "      <th>longitude</th>\n",
       "      <th>latitude</th>\n",
       "      <th>housing_median_age</th>\n",
       "      <th>total_rooms</th>\n",
       "      <th>total_bedrooms</th>\n",
       "      <th>population</th>\n",
       "      <th>households</th>\n",
       "      <th>median_income</th>\n",
       "      <th>median_house_value</th>\n",
       "    </tr>\n",
       "  </thead>\n",
       "  <tbody>\n",
       "    <tr>\n",
       "      <th>13697</th>\n",
       "      <td>-1.2</td>\n",
       "      <td>0.6</td>\n",
       "      <td>-1.1</td>\n",
       "      <td>0.2</td>\n",
       "      <td>0.6</td>\n",
       "      <td>-0.1</td>\n",
       "      <td>0.5</td>\n",
       "      <td>-0.9</td>\n",
       "      <td>0.1</td>\n",
       "    </tr>\n",
       "    <tr>\n",
       "      <th>10396</th>\n",
       "      <td>-0.3</td>\n",
       "      <td>0.6</td>\n",
       "      <td>-0.6</td>\n",
       "      <td>-0.4</td>\n",
       "      <td>-0.6</td>\n",
       "      <td>-0.5</td>\n",
       "      <td>-0.6</td>\n",
       "      <td>-0.7</td>\n",
       "      <td>-1.0</td>\n",
       "    </tr>\n",
       "    <tr>\n",
       "      <th>11235</th>\n",
       "      <td>-0.8</td>\n",
       "      <td>1.6</td>\n",
       "      <td>-1.6</td>\n",
       "      <td>-0.1</td>\n",
       "      <td>-0.4</td>\n",
       "      <td>-0.5</td>\n",
       "      <td>-0.4</td>\n",
       "      <td>0.3</td>\n",
       "      <td>-0.0</td>\n",
       "    </tr>\n",
       "    <tr>\n",
       "      <th>13397</th>\n",
       "      <td>-1.2</td>\n",
       "      <td>1.0</td>\n",
       "      <td>-0.5</td>\n",
       "      <td>-0.3</td>\n",
       "      <td>-0.6</td>\n",
       "      <td>-0.5</td>\n",
       "      <td>-0.5</td>\n",
       "      <td>1.3</td>\n",
       "      <td>0.4</td>\n",
       "    </tr>\n",
       "    <tr>\n",
       "      <th>15503</th>\n",
       "      <td>-1.4</td>\n",
       "      <td>1.1</td>\n",
       "      <td>0.4</td>\n",
       "      <td>0.0</td>\n",
       "      <td>0.3</td>\n",
       "      <td>-0.1</td>\n",
       "      <td>0.1</td>\n",
       "      <td>-0.7</td>\n",
       "      <td>-0.8</td>\n",
       "    </tr>\n",
       "  </tbody>\n",
       "</table>\n",
       "</div>"
      ],
      "text/plain": [
       "       longitude  latitude  housing_median_age  total_rooms  total_bedrooms  \\\n",
       "13697       -1.2       0.6                -1.1          0.2             0.6   \n",
       "10396       -0.3       0.6                -0.6         -0.4            -0.6   \n",
       "11235       -0.8       1.6                -1.6         -0.1            -0.4   \n",
       "13397       -1.2       1.0                -0.5         -0.3            -0.6   \n",
       "15503       -1.4       1.1                 0.4          0.0             0.3   \n",
       "\n",
       "       population  households  median_income  median_house_value  \n",
       "13697        -0.1         0.5           -0.9                 0.1  \n",
       "10396        -0.5        -0.6           -0.7                -1.0  \n",
       "11235        -0.5        -0.4            0.3                -0.0  \n",
       "13397        -0.5        -0.5            1.3                 0.4  \n",
       "15503        -0.1         0.1           -0.7                -0.8  "
      ]
     },
     "execution_count": 4,
     "metadata": {},
     "output_type": "execute_result"
    }
   ],
   "source": [
    "# Calculate the Z-scores of each column in the \"test set\"\n",
    "test_df_mean = test_df.mean()\n",
    "test_df_std  = test_df.std()\n",
    "test_df_norm = (test_df - test_df_mean)/test_df_std\n",
    "\n",
    "# Calculate the Z-scores of each column in the \"training set\"\n",
    "train_df_mean = train_df.mean()\n",
    "train_df_std = train_df.std()\n",
    "train_df_norm = (train_df - train_df_mean)/train_df_std\n",
    "\n",
    "# Examine some of the values of the normalized training set. Notice that most Z-scores fall between -2 and +2.\n",
    "train_df_norm.head()"
   ]
  },
  {
   "cell_type": "markdown",
   "id": "5df77dfc",
   "metadata": {},
   "source": [
    "## Create a binary label"
   ]
  },
  {
   "cell_type": "code",
   "execution_count": 11,
   "id": "4ac7b24a",
   "metadata": {},
   "outputs": [
    {
     "data": {
      "text/plain": [
       "13697   0.0\n",
       "10396   0.0\n",
       "11235   0.0\n",
       "13397   0.0\n",
       "15503   0.0\n",
       "         ..\n",
       "1434    0.0\n",
       "12463   1.0\n",
       "6102    0.0\n",
       "7955    1.0\n",
       "1419    0.0\n",
       "Name: median_house_value_is_high, Length: 8000, dtype: float64"
      ]
     },
     "execution_count": 11,
     "metadata": {},
     "output_type": "execute_result"
    }
   ],
   "source": [
    "# We arbitrarily set the threshold to 265,000, which is the 75th percentile for median house values. \n",
    "# Every neighborhood with a median house price above 265000 will be labeled 1, and all other will be labeled 0.\n",
    "threshold = 265000\n",
    "train_df_norm[\"median_house_value_is_high\"] = (train_df[\"median_house_value\"] > threshold).astype(float)\n",
    "test_df_norm[\"median_house_value_is_high\"] = (test_df[\"median_house_value\"] > threshold).astype(float) \n",
    "train_df_norm[\"median_house_value_is_high\"].head(8000)"
   ]
  },
  {
   "cell_type": "markdown",
   "id": "24e21390",
   "metadata": {},
   "source": [
    "## Represent features in feature columns"
   ]
  },
  {
   "cell_type": "markdown",
   "id": "781daeb3",
   "metadata": {},
   "source": [
    "This code cell specifies the features that you'll ultimately train the model on and how each of those features will be represented. The transformations (collected in `feature_layer`) don't actually get applied until you pass a DataFrame to it, which will happen when we train the model. "
   ]
  },
  {
   "cell_type": "code",
   "execution_count": 6,
   "id": "935cf6c0",
   "metadata": {},
   "outputs": [
    {
     "name": "stderr",
     "output_type": "stream",
     "text": [
      "2022-08-16 18:01:37.783228: I tensorflow/core/platform/cpu_feature_guard.cc:193] This TensorFlow binary is optimized with oneAPI Deep Neural Network Library (oneDNN) to use the following CPU instructions in performance-critical operations:  AVX2 FMA\n",
      "To enable them in other operations, rebuild TensorFlow with the appropriate compiler flags.\n"
     ]
    },
    {
     "data": {
      "text/plain": [
       "<tf.Tensor: shape=(17000, 2), dtype=float32, numpy=\n",
       "array([[-0.8943072 ,  0.18364464],\n",
       "       [-0.6720508 , -0.44802207],\n",
       "       [ 0.32524684, -0.12370227],\n",
       "       ...,\n",
       "       [-1.5002848 , -1.1292313 ],\n",
       "       [-1.0898887 , -0.78518623],\n",
       "       [-0.48616457, -0.33976257]], dtype=float32)>"
      ]
     },
     "execution_count": 6,
     "metadata": {},
     "output_type": "execute_result"
    }
   ],
   "source": [
    "# Create an empty list that will eventually hold all created feature columns.\n",
    "feature_columns = []\n",
    "\n",
    "# Create a numerical feature column to represent median_income.\n",
    "median_income = tf.feature_column.numeric_column(\"median_income\")\n",
    "feature_columns.append(median_income)\n",
    "\n",
    "# Create a numerical feature column to represent total_rooms.\n",
    "tr = tf.feature_column.numeric_column(\"total_rooms\")\n",
    "feature_columns.append(tr)\n",
    "\n",
    "# Convert the list of feature columns into a layer that will later be fed into the model. \n",
    "feature_layer = layers.DenseFeatures(feature_columns)\n",
    "\n",
    "# Print the first 3 and last 3 rows of the feature_layer's output when applied to train_df_norm:\n",
    "feature_layer(dict(train_df_norm))"
   ]
  },
  {
   "cell_type": "markdown",
   "id": "fca64a19",
   "metadata": {},
   "source": [
    "## Define build and train model function"
   ]
  },
  {
   "cell_type": "code",
   "execution_count": 15,
   "id": "f6a458ab",
   "metadata": {},
   "outputs": [],
   "source": [
    "def create_model(my_learning_rate, feature_layer, my_metrics):\n",
    "    \"\"\"Create and compile a simple classification model.\"\"\"\n",
    "  # Most simple tf.keras models are sequential.\n",
    "    model = tf.keras.models.Sequential()\n",
    "\n",
    "  # Add the feature layer (the list of features and how they are represented) to the model.\n",
    "    model.add(feature_layer)\n",
    "\n",
    "  # Funnel the regression value through a sigmoid function.\n",
    "    model.add(tf.keras.layers.Dense(units=1, input_shape=(1,), activation=tf.sigmoid),)\n",
    "\n",
    "  # Call the compile method to construct the layers into a model that TensorFlow can execute. \n",
    "  # Notice that we're using a different loss function for classification than for regression.    \n",
    "    model.compile(optimizer=tf.keras.optimizers.RMSprop(lr=my_learning_rate),                                                   \n",
    "                  loss=tf.keras.losses.BinaryCrossentropy(), \n",
    "                  metrics=my_metrics)\n",
    "\n",
    "    return model        \n",
    "\n",
    "\n",
    "def train_model(model, dataset, epochs, label_name, batch_size=None, shuffle=True):\n",
    "    \"\"\"Feed a dataset into the model in order to train it.\"\"\"\n",
    "    features = {name:np.array(value) for name, value in dataset.items()}\n",
    "    label = np.array(features.pop(label_name)) \n",
    "    history = model.fit(x=features, \n",
    "                        y=label, \n",
    "                        batch_size=batch_size,\n",
    "                        epochs=epochs, \n",
    "                        shuffle=shuffle)\n",
    "  \n",
    "  # The list of epochs is stored separately from the rest of history.\n",
    "    epochs = history.epoch\n",
    "\n",
    "  # Isolate the classification metric for each epoch.\n",
    "    hist = pd.DataFrame(history.history)\n",
    "\n",
    "    return epochs, hist  "
   ]
  },
  {
   "cell_type": "markdown",
   "id": "f118229b",
   "metadata": {},
   "source": [
    "## Define a plotting function"
   ]
  },
  {
   "cell_type": "code",
   "execution_count": 16,
   "id": "d2b4e146",
   "metadata": {},
   "outputs": [],
   "source": [
    "def plot_curve(epochs, hist, list_of_metrics):\n",
    "    \"\"\"Plot a curve of one or more classification metrics vs. epoch.\"\"\"   \n",
    "\n",
    "    plt.figure()\n",
    "    plt.xlabel(\"Epoch\")\n",
    "    plt.ylabel(\"Value\")\n",
    "\n",
    "    for m in list_of_metrics:\n",
    "        x = hist[m]\n",
    "        plt.plot(epochs[1:], x[1:], label=m)\n",
    "\n",
    "    plt.legend()"
   ]
  },
  {
   "cell_type": "markdown",
   "id": "d61f7a24",
   "metadata": {},
   "source": [
    "## Call the model functions"
   ]
  },
  {
   "cell_type": "code",
   "execution_count": 17,
   "id": "93622283",
   "metadata": {},
   "outputs": [
    {
     "name": "stderr",
     "output_type": "stream",
     "text": [
      "/Users/nguyenhien/opt/anaconda3/lib/python3.9/site-packages/keras/optimizers/optimizer_v2/rmsprop.py:135: UserWarning: The `lr` argument is deprecated, use `learning_rate` instead.\n",
      "  super(RMSprop, self).__init__(name, **kwargs)\n"
     ]
    },
    {
     "name": "stdout",
     "output_type": "stream",
     "text": [
      "Epoch 1/20\n",
      "WARNING:tensorflow:Layers in a Sequential model should only have a single input tensor. Received: inputs={'longitude': <tf.Tensor 'IteratorGetNext:3' shape=(100,) dtype=float32>, 'latitude': <tf.Tensor 'IteratorGetNext:2' shape=(100,) dtype=float32>, 'housing_median_age': <tf.Tensor 'IteratorGetNext:1' shape=(100,) dtype=float32>, 'total_rooms': <tf.Tensor 'IteratorGetNext:8' shape=(100,) dtype=float32>, 'total_bedrooms': <tf.Tensor 'IteratorGetNext:7' shape=(100,) dtype=float32>, 'population': <tf.Tensor 'IteratorGetNext:6' shape=(100,) dtype=float32>, 'households': <tf.Tensor 'IteratorGetNext:0' shape=(100,) dtype=float32>, 'median_income': <tf.Tensor 'IteratorGetNext:5' shape=(100,) dtype=float32>, 'median_house_value': <tf.Tensor 'IteratorGetNext:4' shape=(100,) dtype=float32>}. Consider rewriting this model with the Functional API.\n",
      "WARNING:tensorflow:Layers in a Sequential model should only have a single input tensor. Received: inputs={'longitude': <tf.Tensor 'IteratorGetNext:3' shape=(100,) dtype=float32>, 'latitude': <tf.Tensor 'IteratorGetNext:2' shape=(100,) dtype=float32>, 'housing_median_age': <tf.Tensor 'IteratorGetNext:1' shape=(100,) dtype=float32>, 'total_rooms': <tf.Tensor 'IteratorGetNext:8' shape=(100,) dtype=float32>, 'total_bedrooms': <tf.Tensor 'IteratorGetNext:7' shape=(100,) dtype=float32>, 'population': <tf.Tensor 'IteratorGetNext:6' shape=(100,) dtype=float32>, 'households': <tf.Tensor 'IteratorGetNext:0' shape=(100,) dtype=float32>, 'median_income': <tf.Tensor 'IteratorGetNext:5' shape=(100,) dtype=float32>, 'median_house_value': <tf.Tensor 'IteratorGetNext:4' shape=(100,) dtype=float32>}. Consider rewriting this model with the Functional API.\n",
      "170/170 [==============================] - 2s 2ms/step - loss: 0.7828 - accuracy: 0.3835 - precision: 0.2369 - recall: 0.6607\n",
      "Epoch 2/20\n",
      "170/170 [==============================] - 0s 2ms/step - loss: 0.6968 - accuracy: 0.4854 - precision: 0.2786 - recall: 0.6671\n",
      "Epoch 3/20\n",
      "170/170 [==============================] - 0s 2ms/step - loss: 0.6236 - accuracy: 0.5969 - precision: 0.3464 - recall: 0.6920\n",
      "Epoch 4/20\n",
      "170/170 [==============================] - 0s 3ms/step - loss: 0.5623 - accuracy: 0.6790 - precision: 0.4135 - recall: 0.6812\n",
      "Epoch 5/20\n",
      "170/170 [==============================] - 1s 3ms/step - loss: 0.5128 - accuracy: 0.7361 - precision: 0.4793 - recall: 0.6546\n",
      "Epoch 6/20\n",
      "170/170 [==============================] - 0s 3ms/step - loss: 0.4745 - accuracy: 0.7701 - precision: 0.5341 - recall: 0.6228\n",
      "Epoch 7/20\n",
      "170/170 [==============================] - 0s 3ms/step - loss: 0.4473 - accuracy: 0.7924 - precision: 0.5807 - recall: 0.6077\n",
      "Epoch 8/20\n",
      "170/170 [==============================] - 0s 2ms/step - loss: 0.4283 - accuracy: 0.8028 - precision: 0.6071 - recall: 0.5971\n",
      "Epoch 9/20\n",
      "170/170 [==============================] - 0s 2ms/step - loss: 0.4159 - accuracy: 0.8098 - precision: 0.6243 - recall: 0.5990\n",
      "Epoch 10/20\n",
      "170/170 [==============================] - 0s 2ms/step - loss: 0.4079 - accuracy: 0.8109 - precision: 0.6261 - recall: 0.6032\n",
      "Epoch 11/20\n",
      "170/170 [==============================] - 0s 2ms/step - loss: 0.4029 - accuracy: 0.8112 - precision: 0.6256 - recall: 0.6080\n",
      "Epoch 12/20\n",
      "170/170 [==============================] - 0s 2ms/step - loss: 0.3999 - accuracy: 0.8094 - precision: 0.6200 - recall: 0.6120\n",
      "Epoch 13/20\n",
      "170/170 [==============================] - 1s 3ms/step - loss: 0.3983 - accuracy: 0.8095 - precision: 0.6208 - recall: 0.6103\n",
      "Epoch 14/20\n",
      "170/170 [==============================] - 1s 3ms/step - loss: 0.3975 - accuracy: 0.8092 - precision: 0.6191 - recall: 0.6138\n",
      "Epoch 15/20\n",
      "170/170 [==============================] - 0s 2ms/step - loss: 0.3971 - accuracy: 0.8081 - precision: 0.6159 - recall: 0.6162\n",
      "Epoch 16/20\n",
      "170/170 [==============================] - 0s 2ms/step - loss: 0.3968 - accuracy: 0.8088 - precision: 0.6183 - recall: 0.6136\n",
      "Epoch 17/20\n",
      "170/170 [==============================] - 1s 3ms/step - loss: 0.3967 - accuracy: 0.8088 - precision: 0.6178 - recall: 0.6157\n",
      "Epoch 18/20\n",
      "170/170 [==============================] - 1s 3ms/step - loss: 0.3967 - accuracy: 0.8085 - precision: 0.6173 - recall: 0.6146\n",
      "Epoch 19/20\n",
      "170/170 [==============================] - 0s 2ms/step - loss: 0.3966 - accuracy: 0.8095 - precision: 0.6197 - recall: 0.6146\n",
      "Epoch 20/20\n",
      "170/170 [==============================] - 0s 2ms/step - loss: 0.3966 - accuracy: 0.8091 - precision: 0.6189 - recall: 0.6138\n"
     ]
    },
    {
     "data": {
      "image/png": "[encoded data removed]",
      "text/plain": [
       "<Figure size 432x288 with 1 Axes>"
      ]
     },
     "metadata": {
      "needs_background": "light"
     },
     "output_type": "display_data"
    }
   ],
   "source": [
    "learning_rate = 0.001\n",
    "epochs = 20\n",
    "batch_size = 100\n",
    "classification_threshold = 0.35\n",
    "label_name = \"median_house_value_is_high\"\n",
    "\n",
    "# Modify the following definition of METRICS to generate\n",
    "# not only accuracy and precision, but also recall:\n",
    "METRICS = [\n",
    "    # Calculates how often predictions match binary labels.\n",
    "      tf.keras.metrics.BinaryAccuracy(threshold=classification_threshold, name='accuracy'), \n",
    "    # Computes the precision of the predictions with respect to the labels.\n",
    "      tf.keras.metrics.Precision(thresholds=classification_threshold, name='precision' ),\n",
    "    # Computes the recall of the predictions with respect to the labels.\n",
    "      tf.keras.metrics.Recall(thresholds=classification_threshold, name=\"recall\"),\n",
    "]\n",
    "\n",
    "# Establish the model's topography.\n",
    "my_model = create_model(learning_rate, feature_layer, METRICS)\n",
    "\n",
    "# Train the model on the training set.\n",
    "epochs, hist = train_model(my_model, train_df_norm, epochs, label_name, batch_size)\n",
    "\n",
    "# Plot metrics vs. epochs\n",
    "list_of_metrics_to_plot = ['accuracy', 'precision', 'recall'] \n",
    "plot_curve(epochs, hist, list_of_metrics_to_plot)"
   ]
  },
  {
   "cell_type": "markdown",
   "id": "37768fd5",
   "metadata": {},
   "source": [
    "## Experiment with the classification threshold (if time permits)"
   ]
  },
  {
   "cell_type": "code",
   "execution_count": 18,
   "id": "2df050e8",
   "metadata": {
    "scrolled": true
   },
   "outputs": [
    {
     "name": "stdout",
     "output_type": "stream",
     "text": [
      "Epoch 1/20\n",
      "WARNING:tensorflow:Layers in a Sequential model should only have a single input tensor. Received: inputs={'longitude': <tf.Tensor 'IteratorGetNext:3' shape=(100,) dtype=float32>, 'latitude': <tf.Tensor 'IteratorGetNext:2' shape=(100,) dtype=float32>, 'housing_median_age': <tf.Tensor 'IteratorGetNext:1' shape=(100,) dtype=float32>, 'total_rooms': <tf.Tensor 'IteratorGetNext:8' shape=(100,) dtype=float32>, 'total_bedrooms': <tf.Tensor 'IteratorGetNext:7' shape=(100,) dtype=float32>, 'population': <tf.Tensor 'IteratorGetNext:6' shape=(100,) dtype=float32>, 'households': <tf.Tensor 'IteratorGetNext:0' shape=(100,) dtype=float32>, 'median_income': <tf.Tensor 'IteratorGetNext:5' shape=(100,) dtype=float32>, 'median_house_value': <tf.Tensor 'IteratorGetNext:4' shape=(100,) dtype=float32>}. Consider rewriting this model with the Functional API.\n"
     ]
    },
    {
     "name": "stderr",
     "output_type": "stream",
     "text": [
      "/Users/nguyenhien/opt/anaconda3/lib/python3.9/site-packages/keras/optimizers/optimizer_v2/rmsprop.py:135: UserWarning: The `lr` argument is deprecated, use `learning_rate` instead.\n",
      "  super(RMSprop, self).__init__(name, **kwargs)\n"
     ]
    },
    {
     "name": "stdout",
     "output_type": "stream",
     "text": [
      "WARNING:tensorflow:Layers in a Sequential model should only have a single input tensor. Received: inputs={'longitude': <tf.Tensor 'IteratorGetNext:3' shape=(100,) dtype=float32>, 'latitude': <tf.Tensor 'IteratorGetNext:2' shape=(100,) dtype=float32>, 'housing_median_age': <tf.Tensor 'IteratorGetNext:1' shape=(100,) dtype=float32>, 'total_rooms': <tf.Tensor 'IteratorGetNext:8' shape=(100,) dtype=float32>, 'total_bedrooms': <tf.Tensor 'IteratorGetNext:7' shape=(100,) dtype=float32>, 'population': <tf.Tensor 'IteratorGetNext:6' shape=(100,) dtype=float32>, 'households': <tf.Tensor 'IteratorGetNext:0' shape=(100,) dtype=float32>, 'median_income': <tf.Tensor 'IteratorGetNext:5' shape=(100,) dtype=float32>, 'median_house_value': <tf.Tensor 'IteratorGetNext:4' shape=(100,) dtype=float32>}. Consider rewriting this model with the Functional API.\n",
      "170/170 [==============================] - 1s 2ms/step - loss: 0.6296 - accuracy: 0.6876 - precision: 0.4242 - recall: 0.7014\n",
      "Epoch 2/20\n",
      "170/170 [==============================] - 0s 2ms/step - loss: 0.5656 - accuracy: 0.7332 - precision: 0.4758 - recall: 0.6692\n",
      "Epoch 3/20\n",
      "170/170 [==============================] - 0s 2ms/step - loss: 0.5163 - accuracy: 0.7632 - precision: 0.5213 - recall: 0.6386\n",
      "Epoch 4/20\n",
      "170/170 [==============================] - 0s 2ms/step - loss: 0.4776 - accuracy: 0.7869 - precision: 0.5680 - recall: 0.6146\n",
      "Epoch 5/20\n",
      "170/170 [==============================] - 0s 2ms/step - loss: 0.4481 - accuracy: 0.8035 - precision: 0.6104 - recall: 0.5896\n",
      "Epoch 6/20\n",
      "170/170 [==============================] - 0s 2ms/step - loss: 0.4271 - accuracy: 0.8138 - precision: 0.6471 - recall: 0.5604\n",
      "Epoch 7/20\n",
      "170/170 [==============================] - 0s 2ms/step - loss: 0.4120 - accuracy: 0.8240 - precision: 0.6904 - recall: 0.5357\n",
      "Epoch 8/20\n",
      "170/170 [==============================] - 0s 3ms/step - loss: 0.4035 - accuracy: 0.8306 - precision: 0.7317 - recall: 0.5086\n",
      "Epoch 9/20\n",
      "170/170 [==============================] - 0s 2ms/step - loss: 0.3991 - accuracy: 0.8329 - precision: 0.7541 - recall: 0.4916\n",
      "Epoch 10/20\n",
      "170/170 [==============================] - 0s 3ms/step - loss: 0.3975 - accuracy: 0.8342 - precision: 0.7690 - recall: 0.4806\n",
      "Epoch 11/20\n",
      "170/170 [==============================] - 0s 3ms/step - loss: 0.3969 - accuracy: 0.8348 - precision: 0.7735 - recall: 0.4792\n",
      "Epoch 12/20\n",
      "170/170 [==============================] - 0s 3ms/step - loss: 0.3967 - accuracy: 0.8359 - precision: 0.7804 - recall: 0.4777\n",
      "Epoch 13/20\n",
      "170/170 [==============================] - 0s 3ms/step - loss: 0.3967 - accuracy: 0.8362 - precision: 0.7842 - recall: 0.4749\n",
      "Epoch 14/20\n",
      "170/170 [==============================] - 0s 2ms/step - loss: 0.3966 - accuracy: 0.8356 - precision: 0.7810 - recall: 0.4752\n",
      "Epoch 15/20\n",
      "170/170 [==============================] - 0s 2ms/step - loss: 0.3966 - accuracy: 0.8361 - precision: 0.7843 - recall: 0.4742\n",
      "Epoch 16/20\n",
      "170/170 [==============================] - 0s 2ms/step - loss: 0.3966 - accuracy: 0.8361 - precision: 0.7854 - recall: 0.4730\n",
      "Epoch 17/20\n",
      "170/170 [==============================] - 0s 3ms/step - loss: 0.3966 - accuracy: 0.8358 - precision: 0.7871 - recall: 0.4700\n",
      "Epoch 18/20\n",
      "170/170 [==============================] - 0s 3ms/step - loss: 0.3966 - accuracy: 0.8359 - precision: 0.7843 - recall: 0.4735\n",
      "Epoch 19/20\n",
      "170/170 [==============================] - 0s 3ms/step - loss: 0.3966 - accuracy: 0.8364 - precision: 0.7854 - recall: 0.4747\n",
      "Epoch 20/20\n",
      "170/170 [==============================] - 0s 3ms/step - loss: 0.3966 - accuracy: 0.8358 - precision: 0.7844 - recall: 0.4728\n"
     ]
    },
    {
     "data": {
      "image/png": "[encoded data removed]",
      "text/plain": [
       "<Figure size 432x288 with 1 Axes>"
      ]
     },
     "metadata": {
      "needs_background": "light"
     },
     "output_type": "display_data"
    }
   ],
   "source": [
    "learning_rate = 0.001\n",
    "epochs = 20\n",
    "batch_size = 100\n",
    "classification_threshold = 0.52\n",
    "label_name = \"median_house_value_is_high\"\n",
    "\n",
    "# Modify the following definition of METRICS to generate\n",
    "# not only accuracy and precision, but also recall:\n",
    "METRICS = [\n",
    "    # Calculates how often predictions match binary labels.\n",
    "      tf.keras.metrics.BinaryAccuracy(threshold=classification_threshold, name='accuracy'), \n",
    "    # Computes the precision of the predictions with respect to the labels.\n",
    "      tf.keras.metrics.Precision(thresholds=classification_threshold, name='precision' ),\n",
    "    # Computes the recall of the predictions with respect to the labels.\n",
    "      tf.keras.metrics.Recall(thresholds=classification_threshold, name=\"recall\"),\n",
    "]\n",
    "\n",
    "# Establish the model's topography.\n",
    "my_model = create_model(learning_rate, feature_layer, METRICS)\n",
    "\n",
    "# Train the model on the training set.\n",
    "epochs, hist = train_model(my_model, train_df_norm, epochs, label_name, batch_size)\n",
    "\n",
    "# Plot metrics vs. epochs\n",
    "list_of_metrics_to_plot = ['accuracy', 'precision', 'recall'] \n",
    "plot_curve(epochs, hist, list_of_metrics_to_plot)"
   ]
  },
  {
   "cell_type": "markdown",
   "id": "073e65bc",
   "metadata": {},
   "source": [
    "## Summarize model performance (if time permits)"
   ]
  },
  {
   "cell_type": "code",
   "execution_count": 23,
   "id": "f50a5b13",
   "metadata": {},
   "outputs": [
    {
     "name": "stderr",
     "output_type": "stream",
     "text": [
      "/Users/nguyenhien/opt/anaconda3/lib/python3.9/site-packages/keras/optimizers/optimizer_v2/rmsprop.py:135: UserWarning: The `lr` argument is deprecated, use `learning_rate` instead.\n",
      "  super(RMSprop, self).__init__(name, **kwargs)\n"
     ]
    },
    {
     "name": "stdout",
     "output_type": "stream",
     "text": [
      "Epoch 1/20\n",
      "WARNING:tensorflow:Layers in a Sequential model should only have a single input tensor. Received: inputs={'longitude': <tf.Tensor 'IteratorGetNext:3' shape=(100,) dtype=float32>, 'latitude': <tf.Tensor 'IteratorGetNext:2' shape=(100,) dtype=float32>, 'housing_median_age': <tf.Tensor 'IteratorGetNext:1' shape=(100,) dtype=float32>, 'total_rooms': <tf.Tensor 'IteratorGetNext:8' shape=(100,) dtype=float32>, 'total_bedrooms': <tf.Tensor 'IteratorGetNext:7' shape=(100,) dtype=float32>, 'population': <tf.Tensor 'IteratorGetNext:6' shape=(100,) dtype=float32>, 'households': <tf.Tensor 'IteratorGetNext:0' shape=(100,) dtype=float32>, 'median_income': <tf.Tensor 'IteratorGetNext:5' shape=(100,) dtype=float32>, 'median_house_value': <tf.Tensor 'IteratorGetNext:4' shape=(100,) dtype=float32>}. Consider rewriting this model with the Functional API.\n",
      "WARNING:tensorflow:Layers in a Sequential model should only have a single input tensor. Received: inputs={'longitude': <tf.Tensor 'IteratorGetNext:3' shape=(100,) dtype=float32>, 'latitude': <tf.Tensor 'IteratorGetNext:2' shape=(100,) dtype=float32>, 'housing_median_age': <tf.Tensor 'IteratorGetNext:1' shape=(100,) dtype=float32>, 'total_rooms': <tf.Tensor 'IteratorGetNext:8' shape=(100,) dtype=float32>, 'total_bedrooms': <tf.Tensor 'IteratorGetNext:7' shape=(100,) dtype=float32>, 'population': <tf.Tensor 'IteratorGetNext:6' shape=(100,) dtype=float32>, 'households': <tf.Tensor 'IteratorGetNext:0' shape=(100,) dtype=float32>, 'median_income': <tf.Tensor 'IteratorGetNext:5' shape=(100,) dtype=float32>, 'median_house_value': <tf.Tensor 'IteratorGetNext:4' shape=(100,) dtype=float32>}. Consider rewriting this model with the Functional API.\n",
      "170/170 [==============================] - 1s 3ms/step - loss: 0.6280 - auc: 0.7977\n",
      "Epoch 2/20\n",
      "170/170 [==============================] - 0s 3ms/step - loss: 0.5773 - auc: 0.8043\n",
      "Epoch 3/20\n",
      "170/170 [==============================] - 0s 2ms/step - loss: 0.5338 - auc: 0.8099\n",
      "Epoch 4/20\n",
      "170/170 [==============================] - 0s 2ms/step - loss: 0.4955 - auc: 0.8152\n",
      "Epoch 5/20\n",
      "170/170 [==============================] - 0s 2ms/step - loss: 0.4631 - auc: 0.8205\n",
      "Epoch 6/20\n",
      "170/170 [==============================] - 0s 2ms/step - loss: 0.4385 - auc: 0.8248\n",
      "Epoch 7/20\n",
      "170/170 [==============================] - 0s 3ms/step - loss: 0.4202 - auc: 0.8292\n",
      "Epoch 8/20\n",
      "170/170 [==============================] - 0s 3ms/step - loss: 0.4086 - auc: 0.8323\n",
      "Epoch 9/20\n",
      "170/170 [==============================] - 0s 2ms/step - loss: 0.4019 - auc: 0.8347\n",
      "Epoch 10/20\n",
      "170/170 [==============================] - 0s 2ms/step - loss: 0.3989 - auc: 0.8360\n",
      "Epoch 11/20\n",
      "170/170 [==============================] - 0s 2ms/step - loss: 0.3976 - auc: 0.8365\n",
      "Epoch 12/20\n",
      "170/170 [==============================] - 0s 2ms/step - loss: 0.3970 - auc: 0.8369\n",
      "Epoch 13/20\n",
      "170/170 [==============================] - 0s 2ms/step - loss: 0.3968 - auc: 0.8367\n",
      "Epoch 14/20\n",
      "170/170 [==============================] - 0s 2ms/step - loss: 0.3967 - auc: 0.8367\n",
      "Epoch 15/20\n",
      "170/170 [==============================] - 0s 2ms/step - loss: 0.3967 - auc: 0.8368\n",
      "Epoch 16/20\n",
      "170/170 [==============================] - 0s 2ms/step - loss: 0.3966 - auc: 0.8368\n",
      "Epoch 17/20\n",
      "170/170 [==============================] - 0s 2ms/step - loss: 0.3966 - auc: 0.8370\n",
      "Epoch 18/20\n",
      "170/170 [==============================] - 0s 3ms/step - loss: 0.3966 - auc: 0.8368\n",
      "Epoch 19/20\n",
      "170/170 [==============================] - 0s 2ms/step - loss: 0.3966 - auc: 0.8369\n",
      "Epoch 20/20\n",
      "170/170 [==============================] - 0s 2ms/step - loss: 0.3966 - auc: 0.8368\n"
     ]
    },
    {
     "data": {
      "image/png": "[encoded data removed]",
      "text/plain": [
       "<Figure size 432x288 with 1 Axes>"
      ]
     },
     "metadata": {
      "needs_background": "light"
     },
     "output_type": "display_data"
    }
   ],
   "source": [
    "learning_rate = 0.001\n",
    "epochs = 20\n",
    "batch_size = 100\n",
    "label_name = \"median_house_value_is_high\"\n",
    "\n",
    "# AUC is a reasonable \"summary\" metric for \n",
    "# classification models.\n",
    "# Here is the updated definition of METRICS to \n",
    "# measure AUC:\n",
    "METRICS = [\n",
    "      tf.keras.metrics.AUC(num_thresholds=100, name='auc'),\n",
    "]\n",
    "\n",
    "# Establish the model's topography.\n",
    "my_model = create_model(learning_rate, feature_layer, METRICS)\n",
    "\n",
    "# Train the model on the training set.\n",
    "epochs, hist = train_model(my_model, train_df_norm, epochs, label_name, batch_size)\n",
    "\n",
    "# Plot metrics vs. epochs\n",
    "list_of_metrics_to_plot = ['auc'] \n",
    "plot_curve(epochs, hist, list_of_metrics_to_plot)"
   ]
  }
 ],
 "metadata": {
  "kernelspec": {
   "display_name": "Python 3 (ipykernel)",
   "language": "python",
   "name": "python3"
  },
  "language_info": {
   "codemirror_mode": {
    "name": "ipython",
    "version": 3
   },
   "file_extension": ".py",
   "mimetype": "text/x-python",
   "name": "python",
   "nbconvert_exporter": "python",
   "pygments_lexer": "ipython3",
   "version": "3.9.12"
  }
 },
 "nbformat": 4,
 "nbformat_minor": 5
}
